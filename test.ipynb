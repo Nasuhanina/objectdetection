{
 "cells": [
  {
   "cell_type": "code",
   "execution_count": 1,
   "metadata": {},
   "outputs": [
    {
     "name": "stdout",
     "output_type": "stream",
     "text": [
      "no. of rows in the dataset 6171681\n",
      "no. of columns in the dataset 21\n",
      "CPU time=  18.807719707489014\n"
     ]
    }
   ],
   "source": [
    "import pandas as pd \n",
    "import time \n",
    "  \n",
    "  \n",
    "start = time.time() \n",
    "df = pd.read_csv(\"cleaned_data_drivingonly_marmay2023_v2.csv\") \n",
    "print(\"no. of rows in the dataset\", df.shape[0]) \n",
    "print(\"no. of columns in the dataset\", df.shape[1]) \n",
    "end = time.time() \n",
    "print(\"CPU time= \", end-start) "
   ]
  },
  {
   "cell_type": "code",
   "execution_count": 2,
   "metadata": {},
   "outputs": [
    {
     "name": "stdout",
     "output_type": "stream",
     "text": [
      "no. of rows in the dataset 6171681\n",
      "no. of columns in the dataset 21\n",
      "GPU time=  1.5643699169158936\n"
     ]
    }
   ],
   "source": [
    "\n",
    "# Loading the Dataset using Pandas Library (GPU Based) \n",
    "import cudf \n",
    "import time \n",
    "  \n",
    "start = time.time() \n",
    "df = cudf.read_csv(\"cleaned_data_drivingonly_marmay2023_v2.csv\") \n",
    "print(\"no. of rows in the dataset\", df.shape[0]) \n",
    "print(\"no. of columns in the dataset\", df.shape[1]) \n",
    "end = time.time() \n",
    "print(\"GPU time= \", end-start)"
   ]
  },
  {
   "cell_type": "code",
   "execution_count": null,
   "metadata": {},
   "outputs": [],
   "source": []
  }
 ],
 "metadata": {
  "kernelspec": {
   "display_name": "rapids-24.06",
   "language": "python",
   "name": "python3"
  },
  "language_info": {
   "codemirror_mode": {
    "name": "ipython",
    "version": 3
   },
   "file_extension": ".py",
   "mimetype": "text/x-python",
   "name": "python",
   "nbconvert_exporter": "python",
   "pygments_lexer": "ipython3",
   "version": "3.10.14"
  }
 },
 "nbformat": 4,
 "nbformat_minor": 2
}
